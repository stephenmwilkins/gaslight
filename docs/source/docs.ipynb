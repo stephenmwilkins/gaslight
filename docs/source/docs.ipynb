{
 "cells": [
  {
   "attachments": {},
   "cell_type": "markdown",
   "metadata": {},
   "source": [
    "# `gaslight` documentation\n",
    "\n",
    "`gaslight` is a package for accessing and analysing grids of photoionisation models created as part of the wider **gaslight** project.\n",
    "\n",
    "`gaslight` provides methods to access specific grid points, interpolate the grids, flatten the grids to explore large collections of models, and calculate other quantities such as equivalent widths and spectra. `gaslight` complements the much more comprehensive [`synthesizer`](https://github.com/flaresimulations/synthesizer) synthetic observations pipeline and utilises various methods and functions from that package. \n",
    "\n",
    "`gaslight` also makes extensive use of the [`unyt`]() package. \n"
   ]
  },
  {
   "cell_type": "code",
   "execution_count": 1,
   "metadata": {},
   "outputs": [],
   "source": [
    "import numpy as np\n",
    "import matplotlib.pyplot as plt\n",
    "import ipywidgets as widgets\n",
    "from gaslight.grid import Grid\n",
    "from synthesizer import line_ratios"
   ]
  },
  {
   "attachments": {},
   "cell_type": "markdown",
   "metadata": {},
   "source": [
    "## Open a grid and get basic information"
   ]
  },
  {
   "cell_type": "code",
   "execution_count": 2,
   "metadata": {},
   "outputs": [
    {
     "name": "stdout",
     "output_type": "stream",
     "text": [
      "------------------------------\n",
      "SUMMARY OF GASLIGHT GRID\n",
      "Grid dimensions: \n",
      "  Numer of axes: 6\n",
      "  Grid shape: (5, 4, 2, 2, 2, 2)\n",
      "  Numer of models: 320\n",
      "  Numer of failed models: 0 (0.0%)\n",
      "Grid axes: \n",
      "  mass: [1.e+06 1.e+07 1.e+08 1.e+09 1.e+10] \n",
      "  accretion_rate_eddington: [0.03162278 0.1        0.31622777 1.        ] \n",
      "  metallicity: [0.001 0.01 ] \n",
      "  ionisation_parameter: [0.01 0.1 ] \n",
      "  hydrogen_density: [1.e+04 1.e+10] \n",
      "  stop_column_density: [22. 23.] \n",
      "------------------------------\n",
      "\n"
     ]
    }
   ],
   "source": [
    "grid_dir = '/Users/sw376/Dropbox/Research/data/gaslight/grids'\n",
    "grid_name = 'qsosed-isotropic-limited-agn-c23.01-test-v1'\n",
    "\n",
    "g = Grid(grid_dir=grid_dir, grid_name=grid_name)\n",
    "\n",
    "print(g)"
   ]
  },
  {
   "attachments": {},
   "cell_type": "markdown",
   "metadata": {},
   "source": [
    "## Identifying the nearest grid point"
   ]
  },
  {
   "cell_type": "code",
   "execution_count": 3,
   "metadata": {},
   "outputs": [
    {
     "name": "stdout",
     "output_type": "stream",
     "text": [
      "(2, 3, 1, 0, 0, 0)\n"
     ]
    }
   ],
   "source": [
    "point = {\n",
    "    'mass': 1E8,\n",
    "    'accretion_rate_eddington': 1.,\n",
    "    'metallicity': 0.01, \n",
    "    'ionisation_parameter': 0.01, \n",
    "    'hydrogen_density': 1E4,\n",
    "    'stop_column_density': 22}\n",
    "\n",
    "\n",
    "grid_point = g.get_nearest_grid_point(point)\n",
    "\n",
    "print(grid_point)"
   ]
  },
  {
   "attachments": {},
   "cell_type": "markdown",
   "metadata": {},
   "source": [
    "## Obtain a line luminosity at a particular grid point"
   ]
  },
  {
   "cell_type": "code",
   "execution_count": 4,
   "metadata": {},
   "outputs": [
    {
     "name": "stdout",
     "output_type": "stream",
     "text": [
      "----------\n",
      "SUMMARY OF H 1 4861.32A\n",
      "wavelength: 4861.3 Å\n",
      "log10(luminosity/erg/s): -2.21\n",
      "----------\n",
      "----------\n",
      "SUMMARY OF H 1 4861.32A\n",
      "wavelength: 4861.3 Å\n",
      "log10(luminosity/erg/s): -2.21\n",
      "----------\n"
     ]
    }
   ],
   "source": [
    "\n",
    "# line ID using the cloudy notation\n",
    "line_id = 'H 1 4861.32A'\n",
    "\n",
    "# provide a grid_point tuple\n",
    "line = g.get_line(grid_point, line_id)\n",
    "print(line)\n",
    "\n",
    "# this also works if you provide the method the dictionary \n",
    "line = g.get_line(point, line_id)\n",
    "print(line)\n"
   ]
  },
  {
   "attachments": {},
   "cell_type": "markdown",
   "metadata": {},
   "source": [
    "## Create LineCollection\n",
    "\n",
    "We can also create a synthesizer LineCollection object by specifying a set of lines, or leaving the option blank to produce a collection of all available lines."
   ]
  },
  {
   "cell_type": "code",
   "execution_count": 5,
   "metadata": {},
   "outputs": [
    {
     "name": "stdout",
     "output_type": "stream",
     "text": [
      "----------\n",
      "LINE COLLECTION\n",
      "number of lines: 6\n",
      "lines: ['H 1 4861.32A' 'O 3 4958.91A' 'O 3 5006.84A' 'H 1 6562.80A'\n",
      " 'N 2 6583.45A' 'Ni 2 6666.80A']\n",
      "available ratios: ['BalmerDecrement', 'N2', 'R3']\n",
      "available diagrams: ['BPT-NII']\n",
      "----------\n"
     ]
    }
   ],
   "source": [
    "\n",
    "line_ids = [\n",
    "    'H 1 4861.32A', \n",
    "    'O 3 4958.91A', \n",
    "    'O 3 5006.84A', \n",
    "    'H 1 6562.80A', \n",
    "    'N 2 6583.45A', \n",
    "    'Ni 2 6666.80A'\n",
    "    ]\n",
    "lines = g.get_line_collection(grid_point, line_ids=line_ids)\n",
    "print(lines)"
   ]
  },
  {
   "attachments": {},
   "cell_type": "markdown",
   "metadata": {},
   "source": [
    "## Line ratios and diagrams\n",
    "\n",
    "The LineRatio object makes it easy to extract a line ratio or line diagnostic (pair of ratios)."
   ]
  },
  {
   "cell_type": "code",
   "execution_count": 6,
   "metadata": {},
   "outputs": [
    {
     "data": {
      "text/plain": [
       "16.15077098800685"
      ]
     },
     "execution_count": 6,
     "metadata": {},
     "output_type": "execute_result"
    }
   ],
   "source": [
    "lines.get_ratio('R3')"
   ]
  },
  {
   "cell_type": "code",
   "execution_count": 7,
   "metadata": {},
   "outputs": [
    {
     "data": {
      "text/plain": [
       "(0.05410049865746069, 16.15077098800685)"
      ]
     },
     "execution_count": 7,
     "metadata": {},
     "output_type": "execute_result"
    }
   ],
   "source": [
    "lines.get_diagram('BPT-NII')"
   ]
  },
  {
   "attachments": {},
   "cell_type": "markdown",
   "metadata": {},
   "source": [
    "## Flatten a grid for analysis\n",
    "\n",
    "In some contexts it might be more useful to flatten the grid. `gaslight` provides a method (`flatten`) to do this. This not only flattens the luminosity and equivalent width grids but also produces flattened versions of the axes. This allows the user to easily select ranges of parameters."
   ]
  },
  {
   "cell_type": "code",
   "execution_count": 8,
   "metadata": {},
   "outputs": [],
   "source": [
    "# create flattened grids\n",
    "g.flatten()"
   ]
  },
  {
   "attachments": {},
   "cell_type": "markdown",
   "metadata": {},
   "source": [
    "Plot the distribution of H $\\alpha$ luminosities. For AGN grids this is equivalent to the bolometric correction."
   ]
  },
  {
   "cell_type": "code",
   "execution_count": 12,
   "metadata": {},
   "outputs": [
    {
     "data": {
      "image/png": "[encoded data removed]",
      "text/plain": [
       "<Figure size 640x480 with 1 Axes>"
      ]
     },
     "metadata": {},
     "output_type": "display_data"
    }
   ],
   "source": [
    "plt.hist(np.log10(g.luminosity_flattened['H 1 6562.80A'][~g.failed_models_flattened].to('erg/s').value))\n",
    "plt.xlabel(r'$\\rm \\log_{10}(L_{H\\alpha}/L_{bol})$')\n",
    "plt.show()"
   ]
  },
  {
   "attachments": {},
   "cell_type": "markdown",
   "metadata": {},
   "source": [
    "## Equivalent widths\n",
    "\n",
    "The `gaslight` grids also contain the nebular and transmitted continuum at the wavelengths of each line meaning that we can also rapidly calculate equivalent widths."
   ]
  },
  {
   "cell_type": "code",
   "execution_count": null,
   "metadata": {},
   "outputs": [],
   "source": []
  },
  {
   "attachments": {},
   "cell_type": "markdown",
   "metadata": {},
   "source": [
    "## Example library\n",
    "\n",
    "`gaslight` is provided with a small collection of exxamples."
   ]
  },
  {
   "attachments": {},
   "cell_type": "markdown",
   "metadata": {},
   "source": [
    "## Tool library\n",
    "\n",
    "`gaslight` comes with a suite of interactive for exploring grids. "
   ]
  }
 ],
 "metadata": {
  "kernelspec": {
   "display_name": "venv",
   "language": "python",
   "name": "python3"
  },
  "language_info": {
   "codemirror_mode": {
    "name": "ipython",
    "version": 3
   },
   "file_extension": ".py",
   "mimetype": "text/x-python",
   "name": "python",
   "nbconvert_exporter": "python",
   "pygments_lexer": "ipython3",
   "version": "3.10.11"
  },
  "orig_nbformat": 4,
  "vscode": {
   "interpreter": {
    "hash": "f7dd8473b7263151922c4a54b52353ccb1aa1aea4e0087d17adbc23a806dfb8c"
   }
  }
 },
 "nbformat": 4,
 "nbformat_minor": 2
}
