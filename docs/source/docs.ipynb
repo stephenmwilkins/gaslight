{
 "cells": [
  {
   "attachments": {},
   "cell_type": "markdown",
   "metadata": {},
   "source": [
    "# `gaslight` documentation\n",
    "\n",
    "`gaslight` is a package for accessing and analysing grids of photoionisation models created as part of the wider **gaslight** project.\n",
    "\n",
    "`gaslight` provides methods to access specific grid points, interpolate the grids, flatten the grids to explore large collections of models, and calculate other quantities such as equivalent widths and spectra. `gaslight` complements the much more comprehensive [`synthesizer`](https://github.com/flaresimulations/synthesizer) synthetic observations pipeline and utilises various methods and functions from that package. \n",
    "\n",
    "`gaslight` also makes extensive use of the [`unyt`]() package. \n"
   ]
  },
  {
   "cell_type": "code",
   "execution_count": 1,
   "metadata": {},
   "outputs": [],
   "source": [
    "import numpy as np\n",
    "import matplotlib.pyplot as plt\n",
    "import ipywidgets as widgets\n",
    "from gaslight.grid import Grid\n",
    "from synthesizer import line_ratios"
   ]
  },
  {
   "attachments": {},
   "cell_type": "markdown",
   "metadata": {},
   "source": [
    "## Open a grid and get basic information"
   ]
  },
  {
   "cell_type": "code",
   "execution_count": 2,
   "metadata": {},
   "outputs": [
    {
     "name": "stdout",
     "output_type": "stream",
     "text": [
      "------------------------------\n",
      "SUMMARY OF GASLIGHT GRID\n",
      "Grid dimensions: \n",
      "  Numer of axes: 6\n",
      "  Grid shape: (5, 4, 7, 3, 6, 3)\n",
      "  Numer of models: 7560\n",
      "  Numer of failed models: 20 (0.26%)\n",
      "Grid axes: \n",
      "  mass: [1.e+06 1.e+07 1.e+08 1.e+09 1.e+10] \n",
      "  accretion_rate_eddington: [0.03162278 0.1        0.31622777 1.        ] \n",
      "  metallicity: [0.0001 0.0003 0.001  0.003  0.01   0.03   0.05  ] \n",
      "  ionisation_parameter: [1.e-04 1.e-02 1.e+00] \n",
      "  hydrogen_density: [1.e+02 1.e+04 1.e+06 1.e+08 1.e+10 1.e+12] \n",
      "  stop_column_density: [21. 23. 25.] \n",
      "------------------------------\n",
      "\n"
     ]
    }
   ],
   "source": [
    "grid_dir = '/Users/sw376/Dropbox/Research/data/gaslight/grids'\n",
    "grid_name = 'qsosed-isotropic-limited-agn-c23.01-reduced-v1' # WORKS\n",
    "# grid_name = 'qsosed-isotropic-limited-agn-c23.01-v1' # DOES NOT WORK\n",
    "# grid_name = 'bpl-feltre16-agn-c23.01-v1' # EWs wrong\n",
    "# grid_name = 'bpl-feltre16-agn-c23.01-reduced-v1' # EWs wrong\n",
    "\n",
    "g = Grid(grid_dir=grid_dir, grid_name=grid_name)\n",
    "\n",
    "print(g)"
   ]
  },
  {
   "cell_type": "code",
   "execution_count": 3,
   "metadata": {},
   "outputs": [],
   "source": [
    "# g.lines"
   ]
  },
  {
   "attachments": {},
   "cell_type": "markdown",
   "metadata": {},
   "source": [
    "## Identifying the nearest grid point"
   ]
  },
  {
   "cell_type": "code",
   "execution_count": 4,
   "metadata": {},
   "outputs": [
    {
     "name": "stdout",
     "output_type": "stream",
     "text": [
      "{'mass': np.float64(999999.9999999999), 'accretion_rate_eddington': np.float64(0.03162277660168379), 'metallicity': np.float64(0.0001), 'ionisation_parameter': np.float64(0.0001), 'hydrogen_density': np.float64(100.0), 'stop_column_density': np.float64(21.0)}\n",
      "{'mass': np.float64(99999999.99999999), 'accretion_rate_eddington': np.float64(0.03162277660168379), 'metallicity': np.float64(0.0001), 'ionisation_parameter': np.float64(0.01), 'hydrogen_density': np.float64(10000.0), 'stop_column_density': np.float64(21.0)}\n",
      "(np.int64(2), np.int64(0), np.int64(0), np.int64(1), np.int64(1), np.int64(0))\n"
     ]
    }
   ],
   "source": [
    "# get the first grid point\n",
    "point = {axis: g.axes_values[axis][0] for axis in g.axes}\n",
    "print(point)\n",
    "\n",
    "# get a random grid point\n",
    "point = {axis: g.axes_values[axis][np.random.randint(len(g.axes_values[axis]))] for axis in g.axes}\n",
    "print(point)\n",
    "\n",
    "# get the grid point as a tuple\n",
    "grid_point = g.get_nearest_grid_point(point)\n",
    "print(grid_point)\n",
    "\n"
   ]
  },
  {
   "attachments": {},
   "cell_type": "markdown",
   "metadata": {},
   "source": [
    "## Obtain a line luminosity at a particular grid point"
   ]
  },
  {
   "cell_type": "code",
   "execution_count": 5,
   "metadata": {},
   "outputs": [
    {
     "name": "stdout",
     "output_type": "stream",
     "text": [
      "----------\n",
      "SUMMARY OF H 1 4861.32A\n",
      "wavelength: 4861.3 Å\n",
      "Npart: 1\n",
      "<log10(luminosity/erg/s)>: -3.22\n",
      "<equivalent width>: 27 Å\n",
      "----------\n",
      "----------\n",
      "SUMMARY OF H 1 4861.32A\n",
      "wavelength: 4861.3 Å\n",
      "Npart: 1\n",
      "<log10(luminosity/erg/s)>: -3.22\n",
      "<equivalent width>: 27 Å\n",
      "----------\n"
     ]
    }
   ],
   "source": [
    "\n",
    "# line ID using the cloudy notation\n",
    "line_id = 'H 1 4861.32A'\n",
    "\n",
    "# provide a grid_point tuple\n",
    "line = g.get_line_at_grid_point(grid_point, line_id)\n",
    "print(line)\n",
    "\n",
    "# this also works if you provide the method the dictionary \n",
    "line = g.get_line_at_grid_point(point, line_id)\n",
    "print(line)\n"
   ]
  },
  {
   "attachments": {},
   "cell_type": "markdown",
   "metadata": {},
   "source": [
    "Properties can be easily accessed e.g."
   ]
  },
  {
   "cell_type": "code",
   "execution_count": 6,
   "metadata": {},
   "outputs": [
    {
     "name": "stdout",
     "output_type": "stream",
     "text": [
      "0.0006032167416098828 erg/s\n",
      "26.824228259928567 Å\n"
     ]
    }
   ],
   "source": [
    "print(line.luminosity)\n",
    "print(line.equivalent_width)"
   ]
  },
  {
   "attachments": {},
   "cell_type": "markdown",
   "metadata": {},
   "source": [
    "We can also set the the `covering_fraction`, which will change the luminosities and equivalent widths."
   ]
  },
  {
   "cell_type": "code",
   "execution_count": 7,
   "metadata": {},
   "outputs": [
    {
     "name": "stdout",
     "output_type": "stream",
     "text": [
      "----------\n",
      "SUMMARY OF H 1 4861.32A\n",
      "wavelength: 4861.3 Å\n",
      "Npart: 1\n",
      "<log10(luminosity/erg/s)>: -3.52\n",
      "<equivalent width>: 14 Å\n",
      "----------\n"
     ]
    }
   ],
   "source": [
    "# this also works if you provide the method the dictionary \n",
    "line = g.get_line_at_grid_point(point, line_id, covering_fraction = 0.5)\n",
    "print(line)"
   ]
  },
  {
   "attachments": {},
   "cell_type": "markdown",
   "metadata": {},
   "source": [
    "## Create a LineCollection at a particular grid point\n",
    "\n",
    "We can also create a synthesizer LineCollection object by specifying a set of lines, or leaving the option blank to produce a collection of all available lines."
   ]
  },
  {
   "cell_type": "code",
   "execution_count": 8,
   "metadata": {},
   "outputs": [
    {
     "name": "stdout",
     "output_type": "stream",
     "text": [
      "----------\n",
      "LINE COLLECTION\n",
      "number of lines: 6\n",
      "lines: ['H 1 4861.32A' 'O 3 4958.91A' 'O 3 5006.84A' 'H 1 6562.80A'\n",
      " 'N 2 6583.45A' 'Ni 2 6666.80A']\n",
      "available ratios: ['BalmerDecrement', 'N2', 'R3']\n",
      "available diagrams: ['BPT-NII']\n",
      "----------\n"
     ]
    }
   ],
   "source": [
    "\n",
    "line_ids = [\n",
    "    'H 1 4861.32A', \n",
    "    'O 3 4958.91A', \n",
    "    'O 3 5006.84A', \n",
    "    'H 1 6562.80A', \n",
    "    'N 2 6583.45A', \n",
    "    'Ni 2 6666.80A'\n",
    "    ]\n",
    "lines = g.get_line_collection_at_grid_point(grid_point, line_ids=line_ids)\n",
    "print(lines)"
   ]
  },
  {
   "attachments": {},
   "cell_type": "markdown",
   "metadata": {},
   "source": [
    "### Line ratios and diagrams\n",
    "\n",
    "The LineRatio object makes it easy to extract a line ratio or line diagnostic (pair of ratios)."
   ]
  },
  {
   "cell_type": "code",
   "execution_count": 9,
   "metadata": {},
   "outputs": [
    {
     "data": {
      "text/plain": [
       "np.float64(0.42721582608462555)"
      ]
     },
     "execution_count": 9,
     "metadata": {},
     "output_type": "execute_result"
    }
   ],
   "source": [
    "lines.get_ratio('R3')"
   ]
  },
  {
   "cell_type": "code",
   "execution_count": 10,
   "metadata": {},
   "outputs": [
    {
     "data": {
      "text/plain": [
       "(np.float64(1.8457637096409e-05), np.float64(0.42721582608462555))"
      ]
     },
     "execution_count": 10,
     "metadata": {},
     "output_type": "execute_result"
    }
   ],
   "source": [
    "lines.get_diagram('BPT-NII')"
   ]
  },
  {
   "attachments": {},
   "cell_type": "markdown",
   "metadata": {},
   "source": [
    "## Get LineCollection for the entire grid\n",
    "\n",
    "We can also generate a LineCollection containing the entire grid (preserving its original shape). "
   ]
  },
  {
   "cell_type": "code",
   "execution_count": 11,
   "metadata": {},
   "outputs": [
    {
     "name": "stdout",
     "output_type": "stream",
     "text": [
      "----------\n",
      "LINE COLLECTION\n",
      "number of lines: 6\n",
      "lines: ['H 1 4861.32A' 'O 3 4958.91A' 'O 3 5006.84A' 'H 1 6562.80A'\n",
      " 'N 2 6583.45A' 'Ni 2 6666.80A']\n",
      "available ratios: ['BalmerDecrement', 'N2', 'R3']\n",
      "available diagrams: ['BPT-NII']\n",
      "----------\n"
     ]
    }
   ],
   "source": [
    "line_ids = [\n",
    "    'H 1 4861.32A', \n",
    "    'O 3 4958.91A', \n",
    "    'O 3 5006.84A', \n",
    "    'H 1 6562.80A', \n",
    "    'N 2 6583.45A', \n",
    "    'Ni 2 6666.80A'\n",
    "    ]\n",
    "lines = g.get_line_collection(line_ids=line_ids)\n",
    "print(lines)"
   ]
  },
  {
   "attachments": {},
   "cell_type": "markdown",
   "metadata": {},
   "source": [
    "We can show that the shape of the luminosity entry is correct:"
   ]
  },
  {
   "cell_type": "code",
   "execution_count": 12,
   "metadata": {},
   "outputs": [
    {
     "name": "stdout",
     "output_type": "stream",
     "text": [
      "(5, 4, 7, 3, 6, 3)\n"
     ]
    }
   ],
   "source": [
    "print(lines['H 1 6562.80A'].luminosity.shape)"
   ]
  },
  {
   "attachments": {},
   "cell_type": "markdown",
   "metadata": {},
   "source": [
    "This can be made more usable by simply flattening the array. For example,"
   ]
  },
  {
   "cell_type": "code",
   "execution_count": 13,
   "metadata": {},
   "outputs": [
    {
     "data": {
      "text/plain": [
       "(7560,)"
      ]
     },
     "execution_count": 13,
     "metadata": {},
     "output_type": "execute_result"
    }
   ],
   "source": [
    "lines.get_ratio('R3').flatten().shape"
   ]
  },
  {
   "attachments": {},
   "cell_type": "markdown",
   "metadata": {},
   "source": [
    "## Flatten a grid for analysis\n",
    "\n",
    "The `gaslight` grid also contains a flattened version of the `axes_values`, i.e. `axes_values_flattened` which can be used to easily slice the data."
   ]
  },
  {
   "cell_type": "code",
   "execution_count": 14,
   "metadata": {},
   "outputs": [
    {
     "name": "stdout",
     "output_type": "stream",
     "text": [
      "2160\n"
     ]
    }
   ],
   "source": [
    "selection = g.axes_values_flattened['metallicity'] > 0.01\n",
    "print(np.sum(selection))"
   ]
  },
  {
   "attachments": {},
   "cell_type": "markdown",
   "metadata": {},
   "source": [
    "### luminosities (bolometric corrections for AGN)\n",
    "\n",
    "Plot the distribution of H $\\alpha$ luminosities. For AGN grids this is equivalent to the bolometric correction."
   ]
  },
  {
   "cell_type": "code",
   "execution_count": 15,
   "metadata": {},
   "outputs": [
    {
     "data": {
      "image/png": "[encoded data removed]",
      "text/plain": [
       "<Figure size 640x480 with 1 Axes>"
      ]
     },
     "metadata": {},
     "output_type": "display_data"
    }
   ],
   "source": [
    "bins = np.arange(-6., 0.0, 0.1)\n",
    "plt.hist(np.log10(lines['H 1 6562.80A'].luminosity.flatten().to('erg/s').value), bins = bins)\n",
    "plt.xlabel(r'$\\rm \\log_{10}(L_{H\\alpha}/L_{bol})$')\n",
    "plt.show()"
   ]
  },
  {
   "attachments": {},
   "cell_type": "markdown",
   "metadata": {},
   "source": [
    "### Equivalent widths\n",
    "\n",
    "The `synthesizer` Line objects also store the equivalent widths."
   ]
  },
  {
   "cell_type": "code",
   "execution_count": 16,
   "metadata": {},
   "outputs": [
    {
     "data": {
      "image/png": "[encoded data removed]",
      "text/plain": [
       "<Figure size 640x480 with 1 Axes>"
      ]
     },
     "metadata": {},
     "output_type": "display_data"
    }
   ],
   "source": [
    "bins = np.arange(-2., 15., 0.1)\n",
    "plt.hist(np.log10(lines['H 1 6562.80A'].equivalent_width.flatten().to('Angstrom').value), bins = bins)\n",
    "plt.xlabel(r'$\\rm \\log_{10}(EW_{H\\alpha}/\\AA)$')\n",
    "plt.show()"
   ]
  },
  {
   "attachments": {},
   "cell_type": "markdown",
   "metadata": {},
   "source": [
    "### Balmer Decrement"
   ]
  },
  {
   "cell_type": "code",
   "execution_count": 17,
   "metadata": {},
   "outputs": [
    {
     "data": {
      "image/png": "[encoded data removed]",
      "text/plain": [
       "<Figure size 640x480 with 1 Axes>"
      ]
     },
     "metadata": {},
     "output_type": "display_data"
    }
   ],
   "source": [
    "ratio = lines.get_ratio('BalmerDecrement').flatten()\n",
    "\n",
    "selection = np.ones(len(ratio), dtype='bool')\n",
    "# selection = (g.axes_values_flattened['hydrogen_density'] < 10**4) & (g.axes_values_flattened['stop_column_density'] < 23.0)\n",
    "# selection = (g.axes_values_flattened['hydrogen_density'] < 10**4) & (g.axes_values_flattened['metallicity'] < 0.01)\n",
    "\n",
    "bins = np.arange(0., 10., 0.1)\n",
    "plt.hist(ratio[selection], bins = bins)\n",
    "plt.xlabel(r'$\\rm BD$')\n",
    "plt.show()"
   ]
  },
  {
   "attachments": {},
   "cell_type": "markdown",
   "metadata": {},
   "source": [
    "## Example library\n",
    "\n",
    "`gaslight` is provided with a small collection of exxamples."
   ]
  },
  {
   "attachments": {},
   "cell_type": "markdown",
   "metadata": {},
   "source": [
    "## Tool library\n",
    "\n",
    "`gaslight` comes with a suite of interactive for exploring grids. "
   ]
  }
 ],
 "metadata": {
  "kernelspec": {
   "display_name": "venv",
   "language": "python",
   "name": "python3"
  },
  "language_info": {
   "codemirror_mode": {
    "name": "ipython",
    "version": 3
   },
   "file_extension": ".py",
   "mimetype": "text/x-python",
   "name": "python",
   "nbconvert_exporter": "python",
   "pygments_lexer": "ipython3",
   "version": "3.10.11"
  },
  "orig_nbformat": 4,
  "vscode": {
   "interpreter": {
    "hash": "f7dd8473b7263151922c4a54b52353ccb1aa1aea4e0087d17adbc23a806dfb8c"
   }
  }
 },
 "nbformat": 4,
 "nbformat_minor": 2
}
