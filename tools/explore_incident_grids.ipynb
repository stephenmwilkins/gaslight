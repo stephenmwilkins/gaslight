{
 "cells": [
  {
   "cell_type": "code",
   "execution_count": null,
   "metadata": {},
   "outputs": [],
   "source": [
    "from unyt import Msun, erg, kg, eV, Angstrom, c, s, cm, h\n",
    "from synthesizer.grid import Grid\n",
    "import numpy as np\n",
    "import matplotlib as mpl\n",
    "import matplotlib.pyplot as plt\n",
    "\n",
    "import cmasher as cmr\n",
    "import copy\n"
   ]
  },
  {
   "cell_type": "code",
   "execution_count": null,
   "metadata": {},
   "outputs": [],
   "source": [
    "disc_model = 'qsosed-isotropic-limited'\n",
    "disc_model = 'bpl-feltre16'\n",
    "\n",
    "grid_name = disc_model\n",
    "grid_dir = \"/Users/sw376/Dropbox/Research/data/synthesizer/grids/\"\n",
    "\n",
    "grid = Grid(\n",
    "    grid_name=grid_name, \n",
    "    grid_dir=grid_dir,\n",
    "    read_lines=False)\n",
    "\n",
    "print(grid)\n"
   ]
  },
  {
   "cell_type": "code",
   "execution_count": null,
   "metadata": {},
   "outputs": [],
   "source": [
    "incident = grid.get_sed(spectra_type='incident')\n",
    "\n",
    "print(incident.bolometric_luminosity)"
   ]
  }
 ],
 "metadata": {
  "kernelspec": {
   "display_name": "venv",
   "language": "python",
   "name": "python3"
  },
  "language_info": {
   "codemirror_mode": {
    "name": "ipython",
    "version": 3
   },
   "file_extension": ".py",
   "mimetype": "text/x-python",
   "name": "python",
   "nbconvert_exporter": "python",
   "pygments_lexer": "ipython3",
   "version": "3.10.11"
  },
  "orig_nbformat": 4,
  "vscode": {
   "interpreter": {
    "hash": "f7dd8473b7263151922c4a54b52353ccb1aa1aea4e0087d17adbc23a806dfb8c"
   }
  }
 },
 "nbformat": 4,
 "nbformat_minor": 2
}
