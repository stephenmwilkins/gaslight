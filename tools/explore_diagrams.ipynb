{
 "cells": [
  {
   "cell_type": "code",
   "execution_count": null,
   "metadata": {},
   "outputs": [],
   "source": [
    "import copy\n",
    "import numpy as np\n",
    "import matplotlib.pyplot as plt\n",
    "from ipywidgets import interact, interactive, fixed, interact_manual, Layout\n",
    "import ipywidgets as widgets\n",
    "from gaslight.grid import Grid\n",
    "from synthesizer.line import (\n",
    "    get_diagram_labels,\n",
    "    get_ratio_label,)\n",
    "from synthesizer import line_ratios"
   ]
  },
  {
   "cell_type": "code",
   "execution_count": null,
   "metadata": {},
   "outputs": [],
   "source": [
    "\n",
    "grid_dir = '/Users/sw376/Dropbox/Research/data/gaslight/grids'\n",
    "# grid_name = 'bpass-2.2.1-bin_chabrier03-0.1,300.0-ages:6.,7.-metallicities:0.0001,0.001,0.01-c23.01-test'\n",
    "# grid_name = 'bpass-2.2.1-bin_chabrier03-0.1,300.0-ages:6.,7.,8.-c23.01-reduced'\n",
    "grid_name = 'bpass-2.2.1-bin_chabrier03-0.1,300.0-ages:6.,7.,8.-c23.01-full'\n",
    "# grid_name = 'agnsed-limited-c23.01-agn-limited'\n",
    "grid = Grid(grid_dir=grid_dir, grid_name=grid_name)"
   ]
  },
  {
   "attachments": {},
   "cell_type": "markdown",
   "metadata": {},
   "source": [
    "## Diagram explorer"
   ]
  },
  {
   "cell_type": "code",
   "execution_count": null,
   "metadata": {},
   "outputs": [],
   "source": [
    "\n",
    "\n",
    "diagram_limits = {\n",
    "    'BPT-NII': [[-4.,1.],[-4.,1]]\n",
    "}\n",
    "\n",
    "\n",
    "def plot_diagram(diagram_id=None, **kwargs):\n",
    "\n",
    "    x = []\n",
    "    y = []\n",
    "\n",
    "    for metallicity in grid.metallicity:\n",
    "\n",
    "        grid_value_dict = {'metallicity': metallicity} | kwargs\n",
    "\n",
    "        grid_point = grid.get_nearest_grid_point(grid_value_dict)\n",
    "\n",
    "        lines = grid.get_line_collection(grid_point) \n",
    "\n",
    "        x_, y_ = lines.get_diagram(diagram_id)\n",
    "\n",
    "        x.append(x_)  \n",
    "        y.append(y_)  \n",
    "\n",
    "    plt.plot(np.log10(x), np.log10(y))\n",
    "\n",
    "    if diagram_id in diagram_limits:\n",
    "        xlim, ylim = diagram_limits[diagram_id]\n",
    "    else:\n",
    "        xlim = [-5., 1.5]\n",
    "        ylim = [-3., 1.5]\n",
    "\n",
    "    plt.xlim(xlim)\n",
    "    plt.ylim(ylim)\n",
    "\n",
    "    x_label, y_label = get_diagram_labels(diagram_id)\n",
    "\n",
    "    # add axes labels\n",
    "    plt.xlabel(rf'${x_label}$')\n",
    "    plt.ylabel(rf'${y_label}$')\n",
    "\n",
    "    # show\n",
    "    plt.show()\n",
    "\n",
    "# ratio selection widget\n",
    "diagram_id = widgets.Dropdown(\n",
    "    options=line_ratios.available_diagrams,\n",
    "    value='BPT-NII',\n",
    "    disabled=False,\n",
    ")\n",
    "\n",
    "widget_dict = {'diagram_id': diagram_id}\n",
    "\n",
    "axes = copy.deepcopy(grid.axes)\n",
    "axes.remove('metallicity')\n",
    "\n",
    "for axis in axes:\n",
    "\n",
    "    widget = widgets.SelectionSlider(\n",
    "        options=grid.axes_values[axis],\n",
    "        value=grid.axes_values[axis][0], \n",
    "        description=axis,\n",
    "        style={'description_width': '50%'},\n",
    "        layout={'width': '700px'},\n",
    "        )\n",
    "\n",
    "    # add widget to dictionary\n",
    "    widget_dict[axis] = widget\n",
    "\n",
    "widget_list = list(widget_dict.values())\n",
    "\n",
    "# define UI\n",
    "ui = widgets.VBox(widget_list)\n",
    "\n",
    "# collect widgets\n",
    "out = widgets.interactive_output(\n",
    "    plot_diagram, \n",
    "    widget_dict)\n",
    "\n",
    "# display\n",
    "display(ui, out)"
   ]
  }
 ],
 "metadata": {
  "kernelspec": {
   "display_name": "venv",
   "language": "python",
   "name": "python3"
  },
  "language_info": {
   "codemirror_mode": {
    "name": "ipython",
    "version": 3
   },
   "file_extension": ".py",
   "mimetype": "text/x-python",
   "name": "python",
   "nbconvert_exporter": "python",
   "pygments_lexer": "ipython3",
   "version": "3.10.11"
  },
  "orig_nbformat": 4,
  "vscode": {
   "interpreter": {
    "hash": "f7dd8473b7263151922c4a54b52353ccb1aa1aea4e0087d17adbc23a806dfb8c"
   }
  }
 },
 "nbformat": 4,
 "nbformat_minor": 2
}
