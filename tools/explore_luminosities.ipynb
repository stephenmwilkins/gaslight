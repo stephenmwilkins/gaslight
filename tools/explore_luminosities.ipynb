{
 "cells": [
  {
   "cell_type": "code",
   "execution_count": 2,
   "metadata": {},
   "outputs": [],
   "source": [
    "import copy\n",
    "import numpy as np\n",
    "import matplotlib.pyplot as plt\n",
    "from ipywidgets import interact, interactive, fixed, interact_manual, Layout\n",
    "import ipywidgets as widgets\n",
    "from gaslight.grid import Grid\n",
    "from synthesizer.line import (\n",
    "    get_diagram_labels,\n",
    "    get_ratio_label,)\n",
    "from synthesizer import line_ratios"
   ]
  },
  {
   "cell_type": "code",
   "execution_count": 3,
   "metadata": {},
   "outputs": [],
   "source": [
    "\n",
    "grid_dir = '/Users/sw376/Dropbox/Research/data/gaslight/grids'\n",
    "# grid_name = 'bpass-2.2.1-bin_chabrier03-0.1,300.0-ages:6.,7.-metallicities:0.0001,0.001,0.01-c23.01-test'\n",
    "grid_name = 'bpass-2.2.1-bin_chabrier03-0.1,300.0-ages:6.,7.,8.-c23.01-reduced'\n",
    "grid = Grid(grid_dir=grid_dir, grid_name=grid_name)"
   ]
  },
  {
   "attachments": {},
   "cell_type": "markdown",
   "metadata": {},
   "source": [
    "## Plot all line luminosities relative to H-beta"
   ]
  },
  {
   "cell_type": "code",
   "execution_count": 4,
   "metadata": {},
   "outputs": [
    {
     "data": {
      "application/vnd.jupyter.widget-view+json": {
       "model_id": "3bb16e55db334c72914c4a6ae9001ecc",
       "version_major": 2,
       "version_minor": 0
      },
      "text/plain": [
       "VBox(children=(SelectionSlider(description='log10age', layout=Layout(width='700px'), options=(6.0, 7.0, 8.0), …"
      ]
     },
     "metadata": {},
     "output_type": "display_data"
    },
    {
     "data": {
      "application/vnd.jupyter.widget-view+json": {
       "model_id": "06ec09b5665b4638ad3916b40d467643",
       "version_major": 2,
       "version_minor": 0
      },
      "text/plain": [
       "Output()"
      ]
     },
     "metadata": {},
     "output_type": "display_data"
    }
   ],
   "source": [
    "def plot_lines(**grid_value_dict):\n",
    "\n",
    "    grid_point = grid.get_nearest_grid_point(grid_value_dict)\n",
    "\n",
    "    lines = grid.get_line_collection(grid_point) \n",
    "\n",
    "    ratios = []\n",
    "    wavelengths = []\n",
    "\n",
    "    for line in lines:  \n",
    "\n",
    "        ratios.append(line.luminosity / lines['H 1 4861.32A'].luminosity)\n",
    "        wavelengths.append(line.wavelength)\n",
    "\n",
    "    plt.scatter(wavelengths, np.log10(ratios))\n",
    "\n",
    "    plt.ylim([-3., 1.0])\n",
    "    plt.xlim([3000., 7000.])\n",
    "\n",
    "    # add axes labels\n",
    "    plt.xlabel(r'$i$')\n",
    "    plt.ylabel(r'$\\log_{10}(L/L_{H\\beta})$')\n",
    "\n",
    "    # show\n",
    "    plt.show()\n",
    "\n",
    "\n",
    "axes = copy.deepcopy(grid.axes)\n",
    "\n",
    "widget_dict = {}\n",
    " \n",
    "\n",
    "for axis in axes:\n",
    "\n",
    "    widget = widgets.SelectionSlider(\n",
    "        options=grid.axes_values[axis],\n",
    "        value=grid.axes_values[axis][0], \n",
    "        description=axis,\n",
    "        style={'description_width': '50%'},\n",
    "        layout={'width': '700px'},\n",
    "        )\n",
    "\n",
    "    # add widget to dictionary\n",
    "    widget_dict[axis] = widget\n",
    "\n",
    "widget_list = list(widget_dict.values())\n",
    "\n",
    "# define UI\n",
    "ui = widgets.VBox(widget_list)\n",
    "\n",
    "# collect widgets\n",
    "out = widgets.interactive_output(\n",
    "    plot_lines, \n",
    "    widget_dict)\n",
    "\n",
    "# display\n",
    "display(ui, out)"
   ]
  }
 ],
 "metadata": {
  "kernelspec": {
   "display_name": "venv",
   "language": "python",
   "name": "python3"
  },
  "language_info": {
   "codemirror_mode": {
    "name": "ipython",
    "version": 3
   },
   "file_extension": ".py",
   "mimetype": "text/x-python",
   "name": "python",
   "nbconvert_exporter": "python",
   "pygments_lexer": "ipython3",
   "version": "3.10.11"
  },
  "orig_nbformat": 4,
  "vscode": {
   "interpreter": {
    "hash": "f7dd8473b7263151922c4a54b52353ccb1aa1aea4e0087d17adbc23a806dfb8c"
   }
  }
 },
 "nbformat": 4,
 "nbformat_minor": 2
}
